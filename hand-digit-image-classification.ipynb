{
 "cells": [
  {
   "cell_type": "code",
   "execution_count": 1,
   "id": "3f8bf058",
   "metadata": {
    "_cell_guid": "b1076dfc-b9ad-4769-8c92-a6c4dae69d19",
    "_uuid": "8f2839f25d086af736a60e9eeb907d3b93b6e0e5",
    "execution": {
     "iopub.execute_input": "2022-11-01T10:23:17.532180Z",
     "iopub.status.busy": "2022-11-01T10:23:17.531540Z",
     "iopub.status.idle": "2022-11-01T10:23:24.032669Z",
     "shell.execute_reply": "2022-11-01T10:23:24.030956Z"
    },
    "papermill": {
     "duration": 6.51687,
     "end_time": "2022-11-01T10:23:24.035834",
     "exception": false,
     "start_time": "2022-11-01T10:23:17.518964",
     "status": "completed"
    },
    "tags": []
   },
   "outputs": [],
   "source": [
    "# This Python 3 environment comes with many helpful analytics libraries installed\n",
    "# It is defined by the kaggle/python Docker image: https://github.com/kaggle/docker-python\n",
    "# For example, here's several helpful packages to load\n",
    "\n",
    "import numpy as np # linear algebra\n",
    "import pandas as pd # data processing, CSV file I/O (e.g. pd.read_csv)\n",
    "import tensorflow as tf\n",
    "# Input data files are available in the read-only \"../input/\" directory\n",
    "# For example, running this (by clicking run or pressing Shift+Enter) will list all files under the input directory\n",
    "\n",
    "import os\n",
    "for dirname, _, filenames in os.walk('/kaggle/input'):\n",
    "    for filename in filenames:\n",
    "        print(os.path.join(dirname, filename))\n",
    "\n",
    "# You can write up to 20GB to the current directory (/kaggle/working/) that gets preserved as output when you create a version using \"Save & Run All\" \n",
    "# You can also write temporary files to /kaggle/temp/, but they won't be saved outside of the current session"
   ]
  },
  {
   "cell_type": "markdown",
   "id": "9123ffaf",
   "metadata": {
    "papermill": {
     "duration": 0.008465,
     "end_time": "2022-11-01T10:23:24.053632",
     "exception": false,
     "start_time": "2022-11-01T10:23:24.045167",
     "status": "completed"
    },
    "tags": []
   },
   "source": [
    "# Introduction\n",
    "Basic Image Classification! By the end of the project, you'd have created and trained a Neural Network model that, after the training, will be able to predict digits from hand-written images with a high degree of accuracy and along the way, you'd have developed a basic understanding of how Neural Networks work and you'd have developed a basic understanding of TensorFlow syntax with Keras as its front end."
   ]
  },
  {
   "cell_type": "markdown",
   "id": "bb7e1e64",
   "metadata": {
    "papermill": {
     "duration": 0.008349,
     "end_time": "2022-11-01T10:23:24.070798",
     "exception": false,
     "start_time": "2022-11-01T10:23:24.062449",
     "status": "completed"
    },
    "tags": []
   },
   "source": []
  },
  {
   "cell_type": "code",
   "execution_count": 2,
   "id": "1e270cb1",
   "metadata": {
    "execution": {
     "iopub.execute_input": "2022-11-01T10:23:24.091449Z",
     "iopub.status.busy": "2022-11-01T10:23:24.090737Z",
     "iopub.status.idle": "2022-11-01T10:23:24.096198Z",
     "shell.execute_reply": "2022-11-01T10:23:24.095021Z"
    },
    "papermill": {
     "duration": 0.018713,
     "end_time": "2022-11-01T10:23:24.098756",
     "exception": false,
     "start_time": "2022-11-01T10:23:24.080043",
     "status": "completed"
    },
    "tags": []
   },
   "outputs": [],
   "source": [
    "import tensorflow as tf\n"
   ]
  },
  {
   "cell_type": "markdown",
   "id": "20ccd99e",
   "metadata": {
    "papermill": {
     "duration": 0.008363,
     "end_time": "2022-11-01T10:23:24.117706",
     "exception": false,
     "start_time": "2022-11-01T10:23:24.109343",
     "status": "completed"
    },
    "tags": []
   },
   "source": [
    "# The Dataset\n",
    "In order to understand our problem better, we will first import the data that we'd be working with and take a closer look at it. We are going to use the popular MNIST dataset which has lots of images of hand-written digits along with their labels."
   ]
  },
  {
   "cell_type": "code",
   "execution_count": 3,
   "id": "ee58aabe",
   "metadata": {
    "execution": {
     "iopub.execute_input": "2022-11-01T10:23:24.137959Z",
     "iopub.status.busy": "2022-11-01T10:23:24.137208Z",
     "iopub.status.idle": "2022-11-01T10:23:26.328227Z",
     "shell.execute_reply": "2022-11-01T10:23:26.326928Z"
    },
    "papermill": {
     "duration": 2.204914,
     "end_time": "2022-11-01T10:23:26.331387",
     "exception": false,
     "start_time": "2022-11-01T10:23:24.126473",
     "status": "completed"
    },
    "tags": []
   },
   "outputs": [
    {
     "name": "stdout",
     "output_type": "stream",
     "text": [
      "Downloading data from https://storage.googleapis.com/tensorflow/tf-keras-datasets/mnist.npz\n",
      "11493376/11490434 [==============================] - 0s 0us/step\n",
      "11501568/11490434 [==============================] - 0s 0us/step\n"
     ]
    }
   ],
   "source": [
    "from tensorflow.keras.datasets import mnist\n",
    "\n",
    "(x_train, y_train), (x_test, y_test) = mnist.load_data()"
   ]
  },
  {
   "cell_type": "code",
   "execution_count": 4,
   "id": "8a8cd1e9",
   "metadata": {
    "execution": {
     "iopub.execute_input": "2022-11-01T10:23:26.352632Z",
     "iopub.status.busy": "2022-11-01T10:23:26.352150Z",
     "iopub.status.idle": "2022-11-01T10:23:26.359060Z",
     "shell.execute_reply": "2022-11-01T10:23:26.357733Z"
    },
    "papermill": {
     "duration": 0.020645,
     "end_time": "2022-11-01T10:23:26.361818",
     "exception": false,
     "start_time": "2022-11-01T10:23:26.341173",
     "status": "completed"
    },
    "tags": []
   },
   "outputs": [
    {
     "name": "stdout",
     "output_type": "stream",
     "text": [
      "x_train shape:  (60000, 28, 28)\n",
      "y_train shape:  (60000,)\n",
      "x_test shape:  (10000, 28, 28)\n",
      "y_test shape:  (10000,)\n"
     ]
    }
   ],
   "source": [
    "print('x_train shape: ', x_train.shape)\n",
    "print('y_train shape: ', y_train.shape)\n",
    "print('x_test shape: ', x_test.shape)\n",
    "print('y_test shape: ', y_test.shape)"
   ]
  },
  {
   "cell_type": "code",
   "execution_count": 5,
   "id": "98dfb538",
   "metadata": {
    "execution": {
     "iopub.execute_input": "2022-11-01T10:23:26.382936Z",
     "iopub.status.busy": "2022-11-01T10:23:26.381996Z",
     "iopub.status.idle": "2022-11-01T10:23:26.602392Z",
     "shell.execute_reply": "2022-11-01T10:23:26.601053Z"
    },
    "papermill": {
     "duration": 0.233844,
     "end_time": "2022-11-01T10:23:26.605170",
     "exception": false,
     "start_time": "2022-11-01T10:23:26.371326",
     "status": "completed"
    },
    "tags": []
   },
   "outputs": [
    {
     "data": {
      "image/png": "[encoded data removed]",
      "text/plain": [
       "<Figure size 432x288 with 1 Axes>"
      ]
     },
     "metadata": {
      "needs_background": "light"
     },
     "output_type": "display_data"
    }
   ],
   "source": [
    "import matplotlib.pyplot as plt\n",
    "%matplotlib inline\n",
    "\n",
    "plt.imshow(x_train[0], cmap = 'binary')\n",
    "plt.show()"
   ]
  },
  {
   "cell_type": "code",
   "execution_count": 6,
   "id": "05a8d8bb",
   "metadata": {
    "execution": {
     "iopub.execute_input": "2022-11-01T10:23:26.626692Z",
     "iopub.status.busy": "2022-11-01T10:23:26.626189Z",
     "iopub.status.idle": "2022-11-01T10:23:26.633447Z",
     "shell.execute_reply": "2022-11-01T10:23:26.632364Z"
    },
    "papermill": {
     "duration": 0.021079,
     "end_time": "2022-11-01T10:23:26.636296",
     "exception": false,
     "start_time": "2022-11-01T10:23:26.615217",
     "status": "completed"
    },
    "tags": []
   },
   "outputs": [
    {
     "data": {
      "text/plain": [
       "5"
      ]
     },
     "execution_count": 6,
     "metadata": {},
     "output_type": "execute_result"
    }
   ],
   "source": [
    "y_train[0]"
   ]
  },
  {
   "cell_type": "code",
   "execution_count": 7,
   "id": "0903a237",
   "metadata": {
    "execution": {
     "iopub.execute_input": "2022-11-01T10:23:26.658152Z",
     "iopub.status.busy": "2022-11-01T10:23:26.657349Z",
     "iopub.status.idle": "2022-11-01T10:23:26.664532Z",
     "shell.execute_reply": "2022-11-01T10:23:26.663329Z"
    },
    "papermill": {
     "duration": 0.020845,
     "end_time": "2022-11-01T10:23:26.666920",
     "exception": false,
     "start_time": "2022-11-01T10:23:26.646075",
     "status": "completed"
    },
    "tags": []
   },
   "outputs": [
    {
     "data": {
      "text/plain": [
       "array([5, 0, 4, 1, 9, 2, 1, 3, 1, 4], dtype=uint8)"
      ]
     },
     "execution_count": 7,
     "metadata": {},
     "output_type": "execute_result"
    }
   ],
   "source": [
    "y_train[:10]"
   ]
  },
  {
   "cell_type": "markdown",
   "id": "d049183d",
   "metadata": {
    "papermill": {
     "duration": 0.009317,
     "end_time": "2022-11-01T10:23:26.686108",
     "exception": false,
     "start_time": "2022-11-01T10:23:26.676791",
     "status": "completed"
    },
    "tags": []
   },
   "source": [
    "# One Hot Encoding\n",
    "We will change the way this label is represented from a class name or number to a list of all possible classes with all the classes set to 0 except the one which this example belongs to - which will be set to 1. For example:\n",
    "\n",
    "original label\tone-hot encoded label\n",
    "5\t            [0, 0, 0, 0, 0, 1, 0, 0, 0, 0]\n",
    "7\t            [0, 0, 0, 0, 0, 0, 0, 1, 0, 0]\n",
    "1\t            [0, 1, 0, 0, 0, 0, 0, 0, 0, 0]"
   ]
  },
  {
   "cell_type": "code",
   "execution_count": 8,
   "id": "82df3611",
   "metadata": {
    "execution": {
     "iopub.execute_input": "2022-11-01T10:23:26.707340Z",
     "iopub.status.busy": "2022-11-01T10:23:26.706900Z",
     "iopub.status.idle": "2022-11-01T10:23:26.717291Z",
     "shell.execute_reply": "2022-11-01T10:23:26.716052Z"
    },
    "papermill": {
     "duration": 0.024247,
     "end_time": "2022-11-01T10:23:26.720059",
     "exception": false,
     "start_time": "2022-11-01T10:23:26.695812",
     "status": "completed"
    },
    "tags": []
   },
   "outputs": [],
   "source": [
    "from tensorflow.keras.utils import to_categorical\n",
    "\n",
    "y_train_encoded = to_categorical(y_train)\n",
    "y_test_encoded = to_categorical(y_test)"
   ]
  },
  {
   "cell_type": "markdown",
   "id": "93e9bc08",
   "metadata": {
    "papermill": {
     "duration": 0.009512,
     "end_time": "2022-11-01T10:23:26.739719",
     "exception": false,
     "start_time": "2022-11-01T10:23:26.730207",
     "status": "completed"
    },
    "tags": []
   },
   "source": [
    "**To make sure the encoding worked, let's check the shape of the encoded labels.**"
   ]
  },
  {
   "cell_type": "code",
   "execution_count": 9,
   "id": "9ccc0a4a",
   "metadata": {
    "execution": {
     "iopub.execute_input": "2022-11-01T10:23:26.760955Z",
     "iopub.status.busy": "2022-11-01T10:23:26.760502Z",
     "iopub.status.idle": "2022-11-01T10:23:26.766922Z",
     "shell.execute_reply": "2022-11-01T10:23:26.765568Z"
    },
    "papermill": {
     "duration": 0.020544,
     "end_time": "2022-11-01T10:23:26.770050",
     "exception": false,
     "start_time": "2022-11-01T10:23:26.749506",
     "status": "completed"
    },
    "tags": []
   },
   "outputs": [
    {
     "name": "stdout",
     "output_type": "stream",
     "text": [
      "y_train shape:  (60000, 10)\n",
      "y_test shape:  (10000, 10)\n"
     ]
    }
   ],
   "source": [
    "print('y_train shape: ', y_train_encoded.shape)\n",
    "print('y_test shape: ', y_test_encoded.shape)"
   ]
  },
  {
   "cell_type": "markdown",
   "id": "7cf6e5f7",
   "metadata": {
    "papermill": {
     "duration": 0.009474,
     "end_time": "2022-11-01T10:23:26.790087",
     "exception": false,
     "start_time": "2022-11-01T10:23:26.780613",
     "status": "completed"
    },
    "tags": []
   },
   "source": [
    "**And just like before, let's also take a look at the first label and make sure that encoding is correct:**"
   ]
  },
  {
   "cell_type": "code",
   "execution_count": 10,
   "id": "2ab4777b",
   "metadata": {
    "execution": {
     "iopub.execute_input": "2022-11-01T10:23:26.811558Z",
     "iopub.status.busy": "2022-11-01T10:23:26.811158Z",
     "iopub.status.idle": "2022-11-01T10:23:26.818887Z",
     "shell.execute_reply": "2022-11-01T10:23:26.817640Z"
    },
    "papermill": {
     "duration": 0.021151,
     "end_time": "2022-11-01T10:23:26.821073",
     "exception": false,
     "start_time": "2022-11-01T10:23:26.799922",
     "status": "completed"
    },
    "tags": []
   },
   "outputs": [
    {
     "data": {
      "text/plain": [
       "array([0., 0., 0., 0., 0., 1., 0., 0., 0., 0.], dtype=float32)"
      ]
     },
     "execution_count": 10,
     "metadata": {},
     "output_type": "execute_result"
    }
   ],
   "source": [
    "y_train_encoded[0]"
   ]
  },
  {
   "cell_type": "markdown",
   "id": "137d06b1",
   "metadata": {
    "papermill": {
     "duration": 0.009795,
     "end_time": "2022-11-01T10:23:26.841014",
     "exception": false,
     "start_time": "2022-11-01T10:23:26.831219",
     "status": "completed"
    },
    "tags": []
   },
   "source": [
    "# Neural Networks"
   ]
  },
  {
   "cell_type": "markdown",
   "id": "33344b74",
   "metadata": {
    "papermill": {
     "duration": 0.009627,
     "end_time": "2022-11-01T10:23:26.860612",
     "exception": false,
     "start_time": "2022-11-01T10:23:26.850985",
     "status": "completed"
    },
    "tags": []
   },
   "source": [
    "**Preprocessing the Examples**\n",
    "We will create a Neural Network which will take 784 dimensional vectors as inputs (28 rows * 28 columns) and will output a 10 dimensional vector (For the 10 classes). We have already converted the outputs to 10 dimensional, one-hot encoded vectors. Now, let's convert the input to the required format as well. We will use numpy to easily unroll the examples from (28, 28) arrays to (784, 1) vectors."
   ]
  },
  {
   "cell_type": "code",
   "execution_count": 11,
   "id": "baeced9d",
   "metadata": {
    "execution": {
     "iopub.execute_input": "2022-11-01T10:23:26.882297Z",
     "iopub.status.busy": "2022-11-01T10:23:26.881824Z",
     "iopub.status.idle": "2022-11-01T10:23:26.889233Z",
     "shell.execute_reply": "2022-11-01T10:23:26.887922Z"
    },
    "papermill": {
     "duration": 0.021169,
     "end_time": "2022-11-01T10:23:26.891782",
     "exception": false,
     "start_time": "2022-11-01T10:23:26.870613",
     "status": "completed"
    },
    "tags": []
   },
   "outputs": [
    {
     "name": "stdout",
     "output_type": "stream",
     "text": [
      "x_train_reshaped shape:  (60000, 784)\n",
      "x_test_reshaped shape:  (10000, 784)\n"
     ]
    }
   ],
   "source": [
    "x_train_reshaped = np.reshape(x_train, (60000, 784))\n",
    "x_test_reshaped = np.reshape(x_test, (10000, 784))\n",
    "\n",
    "print('x_train_reshaped shape: ', x_train_reshaped.shape)\n",
    "print('x_test_reshaped shape: ', x_test_reshaped.shape)\n"
   ]
  },
  {
   "cell_type": "markdown",
   "id": "41fd32c1",
   "metadata": {
    "papermill": {
     "duration": 0.009582,
     "end_time": "2022-11-01T10:23:26.911388",
     "exception": false,
     "start_time": "2022-11-01T10:23:26.901806",
     "status": "completed"
    },
    "tags": []
   },
   "source": [
    "**Each element in each example is a pixel value. Let's take a look at a few values of just one example.**"
   ]
  },
  {
   "cell_type": "code",
   "execution_count": 12,
   "id": "8a2af638",
   "metadata": {
    "execution": {
     "iopub.execute_input": "2022-11-01T10:23:26.933546Z",
     "iopub.status.busy": "2022-11-01T10:23:26.932691Z",
     "iopub.status.idle": "2022-11-01T10:23:26.939818Z",
     "shell.execute_reply": "2022-11-01T10:23:26.938340Z"
    },
    "papermill": {
     "duration": 0.020653,
     "end_time": "2022-11-01T10:23:26.942064",
     "exception": false,
     "start_time": "2022-11-01T10:23:26.921411",
     "status": "completed"
    },
    "tags": []
   },
   "outputs": [
    {
     "name": "stdout",
     "output_type": "stream",
     "text": [
      "{0, 1, 2, 3, 9, 11, 14, 16, 18, 23, 24, 25, 26, 27, 30, 35, 36, 39, 43, 45, 46, 49, 55, 56, 64, 66, 70, 78, 80, 81, 82, 90, 93, 94, 107, 108, 114, 119, 126, 127, 130, 132, 133, 135, 136, 139, 148, 150, 154, 156, 160, 166, 170, 171, 172, 175, 182, 183, 186, 187, 190, 195, 198, 201, 205, 207, 212, 213, 219, 221, 225, 226, 229, 238, 240, 241, 242, 244, 247, 249, 250, 251, 252, 253, 255}\n"
     ]
    }
   ],
   "source": [
    "print(set(x_train_reshaped[0]))"
   ]
  },
  {
   "cell_type": "markdown",
   "id": "d22e2cf7",
   "metadata": {
    "papermill": {
     "duration": 0.009625,
     "end_time": "2022-11-01T10:23:26.961853",
     "exception": false,
     "start_time": "2022-11-01T10:23:26.952228",
     "status": "completed"
    },
    "tags": []
   },
   "source": [
    "Pixel values, in this dataset, range from 0 to 255. While that's fine if we want to display our images, for our neural network to learn the weights and biases for different layers, computations will be simply much more effective and fast if we normalized these values. In order to normalize the data, we can calculate the mean and standard deviation for each example."
   ]
  },
  {
   "cell_type": "code",
   "execution_count": 13,
   "id": "0e29985b",
   "metadata": {
    "execution": {
     "iopub.execute_input": "2022-11-01T10:23:26.983671Z",
     "iopub.status.busy": "2022-11-01T10:23:26.983281Z",
     "iopub.status.idle": "2022-11-01T10:23:27.297920Z",
     "shell.execute_reply": "2022-11-01T10:23:27.296242Z"
    },
    "papermill": {
     "duration": 0.328699,
     "end_time": "2022-11-01T10:23:27.300727",
     "exception": false,
     "start_time": "2022-11-01T10:23:26.972028",
     "status": "completed"
    },
    "tags": []
   },
   "outputs": [
    {
     "name": "stdout",
     "output_type": "stream",
     "text": [
      "mean:  33.318421449829934\n",
      "std:  78.56748998339798\n"
     ]
    }
   ],
   "source": [
    "x_mean = np.mean(x_train_reshaped)\n",
    "x_std = np.std(x_train_reshaped)\n",
    "\n",
    "print('mean: ', x_mean)\n",
    "print('std: ', x_std)"
   ]
  },
  {
   "cell_type": "markdown",
   "id": "7ee9b775",
   "metadata": {
    "papermill": {
     "duration": 0.009688,
     "end_time": "2022-11-01T10:23:27.320517",
     "exception": false,
     "start_time": "2022-11-01T10:23:27.310829",
     "status": "completed"
    },
    "tags": []
   },
   "source": [
    "Now we will normalise both the training and test set using the mean and standard deviation we just calculated. Notice that we will need to apply the same mean and standard deviation to the test set even though we did not use the test set to calculate these values."
   ]
  },
  {
   "cell_type": "code",
   "execution_count": 14,
   "id": "1ea5d223",
   "metadata": {
    "execution": {
     "iopub.execute_input": "2022-11-01T10:23:27.343695Z",
     "iopub.status.busy": "2022-11-01T10:23:27.343277Z",
     "iopub.status.idle": "2022-11-01T10:23:27.541653Z",
     "shell.execute_reply": "2022-11-01T10:23:27.540443Z"
    },
    "papermill": {
     "duration": 0.213532,
     "end_time": "2022-11-01T10:23:27.544635",
     "exception": false,
     "start_time": "2022-11-01T10:23:27.331103",
     "status": "completed"
    },
    "tags": []
   },
   "outputs": [],
   "source": [
    "epsilon = 1e-10\n",
    "x_train_norm = (x_train_reshaped - x_mean)/(x_std + epsilon)\n",
    "x_test_norm = (x_test_reshaped - x_mean)/(x_std + epsilon)"
   ]
  },
  {
   "cell_type": "markdown",
   "id": "10236b9f",
   "metadata": {
    "papermill": {
     "duration": 0.009652,
     "end_time": "2022-11-01T10:23:27.564701",
     "exception": false,
     "start_time": "2022-11-01T10:23:27.555049",
     "status": "completed"
    },
    "tags": []
   },
   "source": [
    "Note how we added a small value to our denominator. This is because, just in case if our std was close to zero, we'd get very large values as a result. In this case, that's obviously not true but we added this anyway as a good practice since this is typically done to ensure numerical stability.\n",
    "\n",
    "We looked at some of the values for the first training example before. Let's take a look at it again, after having normalised the values."
   ]
  },
  {
   "cell_type": "code",
   "execution_count": 15,
   "id": "940a5ac6",
   "metadata": {
    "execution": {
     "iopub.execute_input": "2022-11-01T10:23:27.586788Z",
     "iopub.status.busy": "2022-11-01T10:23:27.586381Z",
     "iopub.status.idle": "2022-11-01T10:23:27.592799Z",
     "shell.execute_reply": "2022-11-01T10:23:27.591343Z"
    },
    "papermill": {
     "duration": 0.02069,
     "end_time": "2022-11-01T10:23:27.595667",
     "exception": false,
     "start_time": "2022-11-01T10:23:27.574977",
     "status": "completed"
    },
    "tags": []
   },
   "outputs": [
    {
     "name": "stdout",
     "output_type": "stream",
     "text": [
      "{-0.38589016215482896, 1.306921966983251, 1.17964285952926, 1.803310486053816, 1.6887592893452241, 2.8215433456857437, 2.719720059722551, 1.1923707702746593, 1.7396709323268205, 2.057868700961798, 2.3633385588513764, 2.096052433197995, 1.7651267538176187, 2.7960875241949457, 2.7451758812133495, 2.45243393406917, 0.02140298169794222, -0.22042732246464067, 1.2305545025108566, 0.2759611966059242, 2.210603629906587, 2.6560805059955555, 2.6051688630139593, -0.4240738943910262, 0.4668798577869107, 0.1486820891519332, 0.3905123933145161, 1.0905474843114664, -0.09314821501064967, 1.4851127174188385, 2.7579037919587486, 1.5360243604004349, 0.07231462467953861, -0.13133194724684696, 1.294194056237852, 0.03413089244334132, 1.3451056992194483, 2.274243183633583, -0.24588314395543887, 0.772349715676489, 0.75962180493109, 0.7214380726948927, 0.1995937321335296, -0.41134598364562713, 0.5687031437501034, 0.5941589652409017, 0.9378125553666773, 0.9505404661120763, 0.6068868759863008, 0.4159682148053143, -0.042236572029053274, 2.7706317027041476, 2.1342361654341926, 0.12322626766113501, -0.08042030426525057, 0.16140999989733232, 1.8924058612716097, 1.2560103240016547, 2.185147808415789, 0.6196147867316999, 1.943317504253206, -0.11860403650144787, -0.30952269768243434, 1.9942291472348024, -0.2840668761916362, 2.6306246845047574, 2.286971094378982, -0.19497150097384247, -0.39861807290022805, 0.2886891073513233, 1.7523988430722195, 2.3887943803421745, 2.681536327486354, 1.4596568959280403, 2.439706023323771, 2.7833596134495466, 2.490617666305367, -0.10587612575604877, 1.5614801818912332, 1.9051337720170087, 1.6123918248728295, 1.268738234747054, 1.9560454149986053, 2.6433525952501564, 1.026907930584471}\n"
     ]
    }
   ],
   "source": [
    "print(set(x_train_norm[0]))"
   ]
  },
  {
   "cell_type": "markdown",
   "id": "879415ec",
   "metadata": {
    "papermill": {
     "duration": 0.009777,
     "end_time": "2022-11-01T10:23:27.615735",
     "exception": false,
     "start_time": "2022-11-01T10:23:27.605958",
     "status": "completed"
    },
    "tags": []
   },
   "source": [
    "# Creating a Model\n",
    "We use a Sequential class defined in Keras to create our model. All the layers are going to be Dense layers. This means, like our examples above, all the nodes of a layer would be connected to all the nodes of the preceding layer i.e. densely connected."
   ]
  },
  {
   "cell_type": "code",
   "execution_count": 16,
   "id": "2b35a19b",
   "metadata": {
    "execution": {
     "iopub.execute_input": "2022-11-01T10:23:27.638090Z",
     "iopub.status.busy": "2022-11-01T10:23:27.637639Z",
     "iopub.status.idle": "2022-11-01T10:23:27.784632Z",
     "shell.execute_reply": "2022-11-01T10:23:27.783101Z"
    },
    "papermill": {
     "duration": 0.162634,
     "end_time": "2022-11-01T10:23:27.788620",
     "exception": false,
     "start_time": "2022-11-01T10:23:27.625986",
     "status": "completed"
    },
    "tags": []
   },
   "outputs": [
    {
     "name": "stderr",
     "output_type": "stream",
     "text": [
      "2022-11-01 10:23:27.689469: I tensorflow/core/common_runtime/process_util.cc:146] Creating new thread pool with default inter op setting: 2. Tune using inter_op_parallelism_threads for best performance.\n"
     ]
    }
   ],
   "source": [
    "from tensorflow.keras.models import Sequential\n",
    "from tensorflow.keras.layers import Dense\n",
    "\n",
    "model = Sequential([\n",
    "    Dense(128, activation = 'relu', input_shape = (784,)),\n",
    "    Dense(128, activation = 'relu'),\n",
    "    Dense(10, activation = 'softmax')\n",
    "])"
   ]
  },
  {
   "cell_type": "markdown",
   "id": "67258483",
   "metadata": {
    "papermill": {
     "duration": 0.010715,
     "end_time": "2022-11-01T10:23:27.814835",
     "exception": false,
     "start_time": "2022-11-01T10:23:27.804120",
     "status": "completed"
    },
    "tags": []
   },
   "source": [
    "We also need to define a loss function. Think of this function as the difference between the predicted outputs and the actual outputs given in the dataset. This loss needs to be minimised in order to have a higher model accuracy. That's what the optimasation algorithm essentially does - it minimises the loss during model training. For our multi-class classification problem, categorical cross entropy is commonly used.\n",
    "\n",
    "Finally, we will use the accuracy during training as a metric to keep track of as the model trains."
   ]
  },
  {
   "cell_type": "code",
   "execution_count": 17,
   "id": "1f965987",
   "metadata": {
    "execution": {
     "iopub.execute_input": "2022-11-01T10:23:27.837194Z",
     "iopub.status.busy": "2022-11-01T10:23:27.836792Z",
     "iopub.status.idle": "2022-11-01T10:23:28.027671Z",
     "shell.execute_reply": "2022-11-01T10:23:28.026379Z"
    },
    "papermill": {
     "duration": 0.205418,
     "end_time": "2022-11-01T10:23:28.030657",
     "exception": false,
     "start_time": "2022-11-01T10:23:27.825239",
     "status": "completed"
    },
    "tags": []
   },
   "outputs": [
    {
     "name": "stdout",
     "output_type": "stream",
     "text": [
      "Model: \"sequential\"\n",
      "_________________________________________________________________\n",
      "Layer (type)                 Output Shape              Param #   \n",
      "=================================================================\n",
      "dense (Dense)                (None, 128)               100480    \n",
      "_________________________________________________________________\n",
      "dense_1 (Dense)              (None, 128)               16512     \n",
      "_________________________________________________________________\n",
      "dense_2 (Dense)              (None, 10)                1290      \n",
      "=================================================================\n",
      "Total params: 118,282\n",
      "Trainable params: 118,282\n",
      "Non-trainable params: 0\n",
      "_________________________________________________________________\n"
     ]
    }
   ],
   "source": [
    "model.compile(\n",
    "    optimizer = 'sgd',\n",
    "    loss = 'categorical_crossentropy',\n",
    "    metrics = ['accuracy']\n",
    ")\n",
    "\n",
    "model.summary()"
   ]
  },
  {
   "cell_type": "markdown",
   "id": "d5565558",
   "metadata": {
    "papermill": {
     "duration": 0.010731,
     "end_time": "2022-11-01T10:23:28.052423",
     "exception": false,
     "start_time": "2022-11-01T10:23:28.041692",
     "status": "completed"
    },
    "tags": []
   },
   "source": [
    "Notice how we have over 100 thousand parameters (the weights and biases) to learn even though we are using only 2 hidden layers. For deep neural networks, this value can be, and often is, in millions.\n",
    "\n",
    "In order to get the approximation of our function, we just need to fit the model to our data. We will use only training set to do this learning and will reserve the test set for later when we want to check the accuracy of our model. This is because, if we used only one set for both training and testing, the results may be biased and our model may have simply memorized all the examples instead of learning the relationship between features and label"
   ]
  },
  {
   "cell_type": "markdown",
   "id": "2aea9816",
   "metadata": {
    "papermill": {
     "duration": 0.0107,
     "end_time": "2022-11-01T10:23:28.073694",
     "exception": false,
     "start_time": "2022-11-01T10:23:28.062994",
     "status": "completed"
    },
    "tags": []
   },
   "source": [
    "#  Training the Model\n",
    "We are going to train the model for 5 epochs. Think of epoch like an iteration of all the examples going through the model. So, by setting the epochs to 3, we will go through all the training examples 3 times."
   ]
  },
  {
   "cell_type": "code",
   "execution_count": 18,
   "id": "01f07148",
   "metadata": {
    "execution": {
     "iopub.execute_input": "2022-11-01T10:23:28.098613Z",
     "iopub.status.busy": "2022-11-01T10:23:28.097770Z",
     "iopub.status.idle": "2022-11-01T10:23:45.539924Z",
     "shell.execute_reply": "2022-11-01T10:23:45.538954Z"
    },
    "papermill": {
     "duration": 17.457819,
     "end_time": "2022-11-01T10:23:45.542710",
     "exception": false,
     "start_time": "2022-11-01T10:23:28.084891",
     "status": "completed"
    },
    "tags": []
   },
   "outputs": [
    {
     "name": "stderr",
     "output_type": "stream",
     "text": [
      "2022-11-01 10:23:28.498349: I tensorflow/compiler/mlir/mlir_graph_optimization_pass.cc:185] None of the MLIR Optimization Passes are enabled (registered 2)\n"
     ]
    },
    {
     "name": "stdout",
     "output_type": "stream",
     "text": [
      "Epoch 1/3\n",
      "1875/1875 [==============================] - 6s 3ms/step - loss: 0.3697 - accuracy: 0.8909\n",
      "Epoch 2/3\n",
      "1875/1875 [==============================] - 5s 3ms/step - loss: 0.1800 - accuracy: 0.9482\n",
      "Epoch 3/3\n",
      "1875/1875 [==============================] - 5s 3ms/step - loss: 0.1355 - accuracy: 0.9613\n"
     ]
    }
   ],
   "source": [
    "\n",
    "h = model.fit(\n",
    "    x_train_norm,\n",
    "    y_train_encoded,\n",
    "    epochs = 3\n",
    ")"
   ]
  },
  {
   "cell_type": "markdown",
   "id": "0c8e659e",
   "metadata": {
    "papermill": {
     "duration": 0.029727,
     "end_time": "2022-11-01T10:23:45.603036",
     "exception": false,
     "start_time": "2022-11-01T10:23:45.573309",
     "status": "completed"
    },
    "tags": []
   },
   "source": [
    "In order to ensure that this is not a simple \"memorization\" by the machine, we should evaluate the performance on the test set. This is easy to do, we simply use the evaluate method on our model."
   ]
  },
  {
   "cell_type": "code",
   "execution_count": 19,
   "id": "00deadd5",
   "metadata": {
    "execution": {
     "iopub.execute_input": "2022-11-01T10:23:45.667042Z",
     "iopub.status.busy": "2022-11-01T10:23:45.666240Z",
     "iopub.status.idle": "2022-11-01T10:23:46.546268Z",
     "shell.execute_reply": "2022-11-01T10:23:46.544728Z"
    },
    "papermill": {
     "duration": 0.915104,
     "end_time": "2022-11-01T10:23:46.549827",
     "exception": false,
     "start_time": "2022-11-01T10:23:45.634723",
     "status": "completed"
    },
    "tags": []
   },
   "outputs": [
    {
     "name": "stdout",
     "output_type": "stream",
     "text": [
      "313/313 [==============================] - 1s 2ms/step - loss: 0.1218 - accuracy: 0.9637\n",
      "test set accuracy:  96.3699996471405\n"
     ]
    }
   ],
   "source": [
    "loss, accuracy = model.evaluate(x_test_norm, y_test_encoded)\n",
    "\n",
    "print('test set accuracy: ', accuracy * 100)"
   ]
  },
  {
   "cell_type": "markdown",
   "id": "85ab51e1",
   "metadata": {
    "papermill": {
     "duration": 0.030824,
     "end_time": "2022-11-01T10:23:46.611956",
     "exception": false,
     "start_time": "2022-11-01T10:23:46.581132",
     "status": "completed"
    },
    "tags": []
   },
   "source": [
    "# Predictions"
   ]
  },
  {
   "cell_type": "code",
   "execution_count": 20,
   "id": "bec386be",
   "metadata": {
    "execution": {
     "iopub.execute_input": "2022-11-01T10:23:46.676220Z",
     "iopub.status.busy": "2022-11-01T10:23:46.675091Z",
     "iopub.status.idle": "2022-11-01T10:23:47.281048Z",
     "shell.execute_reply": "2022-11-01T10:23:47.279961Z"
    },
    "papermill": {
     "duration": 0.641302,
     "end_time": "2022-11-01T10:23:47.284019",
     "exception": false,
     "start_time": "2022-11-01T10:23:46.642717",
     "status": "completed"
    },
    "tags": []
   },
   "outputs": [
    {
     "name": "stdout",
     "output_type": "stream",
     "text": [
      "shape of preds:  (10000, 10)\n"
     ]
    }
   ],
   "source": [
    "preds = model.predict(x_test_norm)\n",
    "\n",
    "print('shape of preds: ', preds.shape)"
   ]
  },
  {
   "cell_type": "markdown",
   "id": "099ec82e",
   "metadata": {
    "papermill": {
     "duration": 0.030989,
     "end_time": "2022-11-01T10:23:47.348545",
     "exception": false,
     "start_time": "2022-11-01T10:23:47.317556",
     "status": "completed"
    },
    "tags": []
   },
   "source": [
    "We probably can't go through all the 10000 predictions for now, but we can take a look at the first few. Let's plot the first few test set images along with their predicted and actual labels and see how our trained model actually performed."
   ]
  },
  {
   "cell_type": "code",
   "execution_count": 21,
   "id": "67d60091",
   "metadata": {
    "execution": {
     "iopub.execute_input": "2022-11-01T10:23:47.412490Z",
     "iopub.status.busy": "2022-11-01T10:23:47.411847Z",
     "iopub.status.idle": "2022-11-01T10:23:48.495450Z",
     "shell.execute_reply": "2022-11-01T10:23:48.494170Z"
    },
    "papermill": {
     "duration": 1.118457,
     "end_time": "2022-11-01T10:23:48.497994",
     "exception": false,
     "start_time": "2022-11-01T10:23:47.379537",
     "status": "completed"
    },
    "tags": []
   },
   "outputs": [
    {
     "data": {
      "image/png": "[encoded data removed]",
      "text/plain": [
       "<Figure size 864x864 with 25 Axes>"
      ]
     },
     "metadata": {},
     "output_type": "display_data"
    }
   ],
   "source": [
    "plt.figure(figsize = (12, 12))\n",
    "\n",
    "start_index = 0\n",
    "\n",
    "for i in range(25):\n",
    "    plt.subplot(5, 5, i + 1)\n",
    "    plt.grid(False)\n",
    "    plt.xticks([])\n",
    "    plt.yticks([])\n",
    "    pred = np.argmax(preds[start_index + i])\n",
    "    actual = np.argmax(y_test_encoded[start_index + i])\n",
    "    col = 'g'\n",
    "    if pred != actual:\n",
    "        col = 'r'\n",
    "    plt.xlabel('i={} | pred={} | true={}'.format(start_index + i, pred, actual), color = col)\n",
    "    plt.imshow(x_test[start_index + i], cmap='binary')\n",
    "plt.show()"
   ]
  },
  {
   "cell_type": "markdown",
   "id": "6e0d1337",
   "metadata": {
    "papermill": {
     "duration": 0.033067,
     "end_time": "2022-11-01T10:23:48.563552",
     "exception": false,
     "start_time": "2022-11-01T10:23:48.530485",
     "status": "completed"
    },
    "tags": []
   },
   "source": [
    "# It gets most of the predictions right!"
   ]
  },
  {
   "cell_type": "code",
   "execution_count": 22,
   "id": "30cca3ca",
   "metadata": {
    "execution": {
     "iopub.execute_input": "2022-11-01T10:23:48.630381Z",
     "iopub.status.busy": "2022-11-01T10:23:48.629576Z",
     "iopub.status.idle": "2022-11-01T10:23:48.826875Z",
     "shell.execute_reply": "2022-11-01T10:23:48.825471Z"
    },
    "papermill": {
     "duration": 0.234073,
     "end_time": "2022-11-01T10:23:48.829639",
     "exception": false,
     "start_time": "2022-11-01T10:23:48.595566",
     "status": "completed"
    },
    "tags": []
   },
   "outputs": [
    {
     "data": {
      "image/png": "[encoded data removed]",
      "text/plain": [
       "<Figure size 432x288 with 1 Axes>"
      ]
     },
     "metadata": {
      "needs_background": "light"
     },
     "output_type": "display_data"
    }
   ],
   "source": [
    "\"\"\"\n",
    "Enter the index value in place of the value 8 below for the prediction\n",
    "that you want to plot the probability scores for\n",
    "\"\"\"\n",
    "index = 8\n",
    "\n",
    "plt.plot(preds[index])\n",
    "plt.show()"
   ]
  },
  {
   "cell_type": "code",
   "execution_count": null,
   "id": "bdbef44b",
   "metadata": {
    "papermill": {
     "duration": 0.032341,
     "end_time": "2022-11-01T10:23:48.894248",
     "exception": false,
     "start_time": "2022-11-01T10:23:48.861907",
     "status": "completed"
    },
    "tags": []
   },
   "outputs": [],
   "source": []
  }
 ],
 "metadata": {
  "kernelspec": {
   "display_name": "Python 3",
   "language": "python",
   "name": "python3"
  },
  "language_info": {
   "codemirror_mode": {
    "name": "ipython",
    "version": 3
   },
   "file_extension": ".py",
   "mimetype": "text/x-python",
   "name": "python",
   "nbconvert_exporter": "python",
   "pygments_lexer": "ipython3",
   "version": "3.7.12"
  },
  "papermill": {
   "default_parameters": {},
   "duration": 44.27131,
   "end_time": "2022-11-01T10:23:52.424632",
   "environment_variables": {},
   "exception": null,
   "input_path": "__notebook__.ipynb",
   "output_path": "__notebook__.ipynb",
   "parameters": {},
   "start_time": "2022-11-01T10:23:08.153322",
   "version": "2.3.4"
  }
 },
 "nbformat": 4,
 "nbformat_minor": 5
}
